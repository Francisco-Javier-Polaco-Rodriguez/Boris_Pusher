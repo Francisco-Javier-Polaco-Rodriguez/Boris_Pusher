{
 "cells": [
  {
   "cell_type": "code",
   "execution_count": 223,
   "metadata": {},
   "outputs": [],
   "source": [
    "import numpy as np\n",
    "import matplotlib.pyplot as plt"
   ]
  },
  {
   "cell_type": "code",
   "execution_count": 228,
   "metadata": {},
   "outputs": [],
   "source": [
    "class borist_test():\n",
    "    def __init__(self,x,v,N_sp,N_t,dt,L,E,B):\n",
    "        self.x = x\n",
    "        self.v = v\n",
    "        self.N_sp = N_sp\n",
    "        self.N_t = N_t\n",
    "        self.dt = dt\n",
    "        self.E = E\n",
    "        self.B = B\n",
    "        self.L = L\n",
    "        self.T = dt*N_t\n",
    "        self.X = np.meshgrid(np.linspace(0,L,N_sp),np.linspace(0,L,N_sp),np.linspace(0,L,N_sp))\n",
    "        self.first = True\n",
    "    def En_plus_1half(x1half,i,j):\n",
    "        #We get from here the E(x_1+1/2) needed for the rest of the computatio\n",
    "        1==1\n",
    "    def x_forward(self):\n",
    "        # It computes the position of each particle.\n",
    "        if self.first:\n",
    "            self.first = False\n",
    "            self.x = np.concatenate((self.x[:,:,np.newaxis],self.x[:,:,np.newaxis]+self.v[:,:,np.newaxis]*self.dt*0.5),axis = 2)\n",
    "        else:\n",
    "            #self.x = np.concatenate((self.x,self.x[:,:,:,-1][:,:,np.newaxis]+self.v[:,:,:,-1][:,:,np.newaxis]*self.dt),axis = 2)\n",
    "            self.x = np.concatenate((self.x,self.x[:,:,-1][:,:,np.newaxis]+self.v[:,:,np.newaxis]*self.dt),axis = 2)"
   ]
  },
  {
   "cell_type": "code",
   "execution_count": 272,
   "metadata": {},
   "outputs": [],
   "source": [
    "N_part = 100\n",
    "x =np.random.rand(N_part,3)\n",
    "v = (np.random.rand(N_part,3)-0.5*np.ones((N_part,3)))\n",
    "test = borist_test(x,v,3,1,1,1,1,1)"
   ]
  },
  {
   "cell_type": "code",
   "execution_count": 273,
   "metadata": {},
   "outputs": [],
   "source": [
    "for k in range(300):\n",
    "    test.x_forward()"
   ]
  },
  {
   "cell_type": "code",
   "execution_count": 274,
   "metadata": {},
   "outputs": [
    {
     "data": {
      "image/png": "[encoded data removed]",
      "text/plain": [
       "<Figure size 432x288 with 1 Axes>"
      ]
     },
     "metadata": {
      "needs_background": "light"
     },
     "output_type": "display_data"
    }
   ],
   "source": [
    "plt.plot(test.x[:,1,:],test.x[:,2,:],'r.');"
   ]
  },
  {
   "cell_type": "code",
   "execution_count": 211,
   "metadata": {},
   "outputs": [
    {
     "data": {
      "text/plain": [
       "(20, 3, 3)"
      ]
     },
     "execution_count": 211,
     "metadata": {},
     "output_type": "execute_result"
    }
   ],
   "source": [
    "x = np.concatenate((test.x,test.x[:,:,-1][:,:,np.newaxis]+test.v[:,:,np.newaxis]*test.dt),axis = 2)\n",
    "x.shape"
   ]
  },
  {
   "cell_type": "code",
   "execution_count": 159,
   "metadata": {},
   "outputs": [
    {
     "data": {
      "text/plain": [
       "(20, 3, 2)"
      ]
     },
     "execution_count": 159,
     "metadata": {},
     "output_type": "execute_result"
    }
   ],
   "source": [
    "a = np.concatenate((x[:,:,np.newaxis],x[:,:,np.newaxis]+x[:,:,np.newaxis]),axis = 2)\n",
    "a.shape"
   ]
  }
 ],
 "metadata": {
  "kernelspec": {
   "display_name": "Python 3 (ipykernel)",
   "language": "python",
   "name": "python3"
  },
  "language_info": {
   "codemirror_mode": {
    "name": "ipython",
    "version": 3
   },
   "file_extension": ".py",
   "mimetype": "text/x-python",
   "name": "python",
   "nbconvert_exporter": "python",
   "pygments_lexer": "ipython3",
   "version": "3.9.13"
  },
  "vscode": {
   "interpreter": {
    "hash": "284fda34d4d3dab198f1159d0feb986af1c9b0c6f09bc1748fb0c6b9cd5f4475"
   }
  }
 },
 "nbformat": 4,
 "nbformat_minor": 4
}
